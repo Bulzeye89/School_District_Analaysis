{
 "cells": [
  {
   "cell_type": "code",
   "execution_count": null,
   "id": "ccc5c151",
   "metadata": {
    "collapsed": true
   },
   "outputs": [],
   "source": []
  },
  {
   "cell_type": "code",
   "execution_count": null,
   "id": "7ab736e9",
   "metadata": {
    "collapsed": true
   },
   "outputs": [],
   "source": []
  }
 ],
 "metadata": {
  "celltoolbar": "Raw Cell Format"
 },
 "nbformat": 4,
 "nbformat_minor": 5
}
